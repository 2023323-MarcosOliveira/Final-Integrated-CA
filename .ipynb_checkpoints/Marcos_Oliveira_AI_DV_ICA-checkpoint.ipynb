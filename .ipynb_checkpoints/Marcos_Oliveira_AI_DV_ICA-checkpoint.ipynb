{
 "cells": [
  {
   "cell_type": "markdown",
   "id": "f790fc68-0b4f-4509-88b6-037b2ab9dfaa",
   "metadata": {},
   "source": [
    "# Final Integrated CA\n",
    "\n",
    "College: `CCT College Dublin`\n",
    "\n",
    "Programme Title: `BSc (Hons) in Computing and IT Y4`\n",
    "\n",
    "Module Title: `Artificial Intelligence` / `Data Visualisation & Comms`\n",
    "\n",
    "Lecturer Name: `David McQuaid` / `Sam Weiss`\n",
    "\n",
    "Student Name: `Marcos Vinicius de Oliveira`\n",
    "\n",
    "Student Number: `2023323`"
   ]
  },
  {
   "cell_type": "markdown",
   "id": "a5f877a0-cc0c-4f5e-ae75-62416d1426d7",
   "metadata": {},
   "source": [
    "## Scenario 1"
   ]
  },
  {
   "cell_type": "code",
   "execution_count": 2,
   "id": "efddbefe-1239-4df5-a688-af7ced970063",
   "metadata": {},
   "outputs": [
    {
     "data": {
      "text/plain": [
       "[('Jane', 'Jane', 'Juan', 'Juan', 'Juan', 'Jane', 'Jim'),\n",
       " ('Jane', 'Jane', 'Juan', 'Jim', 'Juan', 'Jane', 'Jim'),\n",
       " ('Jane', 'Jane', 'Jim', 'Juan', 'Juan', 'Jane', 'Jim'),\n",
       " ('Jane', 'Jane', 'Jim', 'Jim', 'Juan', 'Jane', 'Jim')]"
      ]
     },
     "execution_count": 2,
     "metadata": {},
     "output_type": "execute_result"
    }
   ],
   "source": [
    "from itertools import product\n",
    "\n",
    "# Define the domains\n",
    "python_programmers = [\"Peter\", \"Jane\", \"Bruce\"]\n",
    "ai_engineers = [\"Peter\", \"Juan\", \"Jim\"]\n",
    "web_designers = [\"Juan\", \"Mary\", \"Anita\"]\n",
    "# Only one option\n",
    "database_admins = [\"Jane\"]\n",
    "systems_engineers = [\"Jim\", \"Mary\", \"Bruce\"]\n",
    "\n",
    "# Constraints as per the scenario\n",
    "# Ciara is one of the Python Programmers and Jane is the other Python Programmer\n",
    "python_programmers_constraint = [\"Ciara\", \"Jane\"]\n",
    "\n",
    "# Juan and Jim are the AI Engineers\n",
    "ai_engineers_constraint = [\"Juan\", \"Jim\"]\n",
    "\n",
    "# Juan is the Web Designer\n",
    "web_designers_constraint = [\"Juan\"]\n",
    "\n",
    "# Jane is the Database Admin\n",
    "database_admins_constraint = [\"Jane\"]\n",
    "\n",
    "# Jim is the Systems Engineer\n",
    "systems_engineers_constraint = [\"Jim\"]\n",
    "\n",
    "# Function to check if a combination of employees satisfies the constraints\n",
    "def satisfies_constraints(combination):\n",
    "    # Extracting the roles\n",
    "    python1, python2, ai1, ai2, web, database, systems = combination\n",
    "\n",
    "    # Checking constraints\n",
    "    if python1 not in python_programmers_constraint or python2 not in python_programmers_constraint:\n",
    "        return False\n",
    "    if ai1 not in ai_engineers_constraint or ai2 not in ai_engineers_constraint:\n",
    "        return False\n",
    "    if web not in web_designers_constraint:\n",
    "        return False\n",
    "    if database not in database_admins_constraint:\n",
    "        return False\n",
    "    if systems not in systems_engineers_constraint:\n",
    "        return False\n",
    "\n",
    "    return True\n",
    "\n",
    "# All possible combinations\n",
    "all_combinations = product(python_programmers, python_programmers, ai_engineers, ai_engineers, \n",
    "                           web_designers, database_admins, systems_engineers)\n",
    "\n",
    "# Filter combinations that satisfy the constraints\n",
    "valid_combinations = [combo for combo in all_combinations if satisfies_constraints(combo)]\n",
    "\n",
    "# Display the valid combinations\n",
    "valid_combinations\n"
   ]
  },
  {
   "cell_type": "code",
   "execution_count": null,
   "id": "d3c0437a-3e05-4286-956a-173ea88a324b",
   "metadata": {},
   "outputs": [],
   "source": []
  }
 ],
 "metadata": {
  "kernelspec": {
   "display_name": "Python 3 (ipykernel)",
   "language": "python",
   "name": "python3"
  },
  "language_info": {
   "codemirror_mode": {
    "name": "ipython",
    "version": 3
   },
   "file_extension": ".py",
   "mimetype": "text/x-python",
   "name": "python",
   "nbconvert_exporter": "python",
   "pygments_lexer": "ipython3",
   "version": "3.8.18"
  }
 },
 "nbformat": 4,
 "nbformat_minor": 5
}
