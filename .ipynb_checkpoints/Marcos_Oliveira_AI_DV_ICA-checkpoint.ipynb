{
 "cells": [
  {
   "cell_type": "markdown",
   "id": "f790fc68-0b4f-4509-88b6-037b2ab9dfaa",
   "metadata": {},
   "source": [
    "# Final Integrated CA\n",
    "\n",
    "College: `CCT College Dublin`\n",
    "\n",
    "Programme Title: `BSc (Hons) in Computing and IT Y4`\n",
    "\n",
    "Module Title: `Artificial Intelligence` / `Data Visualisation & Comms`\n",
    "\n",
    "Lecturer Name: `David McQuaid` / `Sam Weiss`\n",
    "\n",
    "Student Name: `Marcos Vinicius de Oliveira`\n",
    "\n",
    "Student Number: `2023323`"
   ]
  },
  {
   "cell_type": "markdown",
   "id": "a5f877a0-cc0c-4f5e-ae75-62416d1426d7",
   "metadata": {},
   "source": [
    "# Artificial Intelligence Tasks\n",
    "## Constraint Satisfaction Problem\n",
    "\n",
    "### Scenario 1:"
   ]
  },
  {
   "cell_type": "code",
   "execution_count": 12,
   "id": "efddbefe-1239-4df5-a688-af7ced970063",
   "metadata": {},
   "outputs": [
    {
     "data": {
      "text/plain": [
       "[('Jane', 'Anita', 'Jim', 'Ciara'), ('Jane', 'Jim', 'Juan', 'Ciara')]"
      ]
     },
     "execution_count": 12,
     "metadata": {},
     "output_type": "execute_result"
    }
   ],
   "source": [
    "from itertools import combinations\n",
    "\n",
    "# Candidates and their abilities\n",
    "candidates = {\n",
    "    \"Peter\": [\"Python\", \"AI\"],\n",
    "    \"Juan\": [\"Web\", \"AI\"],\n",
    "    \"Jim\": [\"AI\", \"Systems\"],\n",
    "    \"Jane\": [\"Python\", \"Database\"],\n",
    "    \"Mary\": [\"Web\", \"Systems\"],\n",
    "    \"Bruce\": [\"Systems\", \"Python\"],\n",
    "    \"Anita\": [\"Web\", \"AI\"],\n",
    "    \"Ciara\": [\"Python\"]  # Ciara knows Python\n",
    "}\n",
    "\n",
    "# Required roles\n",
    "required_roles = {\n",
    "    \"Python\": 2,\n",
    "    \"AI\": 2,\n",
    "    \"Web\": 1,\n",
    "    \"Database\": 1,\n",
    "    \"Systems\": 1\n",
    "}\n",
    "\n",
    "# Function to check if the combination of hires covers all roles\n",
    "def covers_all_roles(hires):\n",
    "    covered_roles = {role: 0 for role in required_roles.keys()}\n",
    "\n",
    "    for hire in hires:\n",
    "        for skill in candidates[hire]:\n",
    "            if skill in covered_roles:\n",
    "                covered_roles[skill] += 1\n",
    "\n",
    "    # Check if all roles are adequately covered\n",
    "    return all(covered_roles[role] >= required_roles[role] for role in covered_roles)\n",
    "\n",
    "# Generate combinations of three hires (excluding Ciara who is a given hire)\n",
    "possible_hires = set(candidates.keys()) - {\"Ciara\"}\n",
    "combinations_of_hires = combinations(possible_hires, 3)\n",
    "\n",
    "# Find valid combinations\n",
    "valid_combinations = []\n",
    "for hires in combinations_of_hires:\n",
    "    hires_with_ciara = hires + (\"Ciara\",)  # Adding Ciara to the combination\n",
    "    if covers_all_roles(hires_with_ciara):\n",
    "        valid_combinations.append(hires_with_ciara)\n",
    "\n",
    "# Display the first few valid combinations\n",
    "valid_combinations[:5]  # Display the first 5 solutions for brevity"
   ]
  },
  {
   "cell_type": "markdown",
   "id": "d0931c21-66ad-4f39-994c-96bafa87f11e",
   "metadata": {},
   "source": [
    "### Scenario 2"
   ]
  },
  {
   "cell_type": "code",
   "execution_count": 14,
   "id": "9ed9d136-1129-409f-8ea9-50bd89ec61f8",
   "metadata": {},
   "outputs": [
    {
     "data": {
      "text/plain": [
       "[('Peter', 'Jim', 'Jane', 'Anita', 'Ciara', 'Juan')]"
      ]
     },
     "execution_count": 14,
     "metadata": {},
     "output_type": "execute_result"
    }
   ],
   "source": [
    "from itertools import combinations\n",
    "\n",
    "# Roles for Scenario 2\n",
    "required_roles_scenario_2 = {\n",
    "    \"Python\": 2,\n",
    "    \"AI\": 3,  # Increased to 3 AI Engineers\n",
    "    \"Web\": 1,\n",
    "    \"Database\": 1,\n",
    "    \"Systems\": 1\n",
    "}\n",
    "\n",
    "# Excluding Ciara and Juan\n",
    "candidates_scenario_2 = {\n",
    "    \"Peter\": [\"Python\", \"AI\"],\n",
    "    \"Jim\": [\"AI\", \"Systems\"],\n",
    "    \"Jane\": [\"Python\", \"Database\"],\n",
    "    \"Mary\": [\"Web\", \"Systems\"],\n",
    "    \"Bruce\": [\"Systems\", \"Python\"],\n",
    "    \"Anita\": [\"Web\", \"AI\"]\n",
    "}\n",
    "\n",
    "# Function to check if the combination of hires covers all roles for Scenario 2\n",
    "def covers_all_roles_scenario_2(hires):\n",
    "    covered_roles = {role: 0 for role in required_roles_scenario_2.keys()}\n",
    "\n",
    "    for hire in hires:\n",
    "        for skill in candidates_scenario_2.get(hire, []):\n",
    "            if skill in covered_roles:\n",
    "                covered_roles[skill] += 1\n",
    "\n",
    "    # Check if all roles are adequately covered\n",
    "    return all(covered_roles[role] >= required_roles_scenario_2[role] for role in covered_roles)\n",
    "\n",
    "# Generate combinations of four hires for Scenario 2\n",
    "combinations_of_hires_scenario_2 = combinations(candidates_scenario_2.keys(), 4)\n",
    "\n",
    "# Find valid combinations for Scenario 2\n",
    "valid_combinations_scenario_2 = []\n",
    "for hires in combinations_of_hires_scenario_2:\n",
    "    hires_with_partners = hires + (\"Ciara\", \"Juan\")  # Adding Ciara and Juan to the combination\n",
    "    if covers_all_roles_scenario_2(hires_with_partners):\n",
    "        valid_combinations_scenario_2.append(hires_with_partners)\n",
    "\n",
    "# Display the first few valid combinations\n",
    "valid_combinations_scenario_2[:5]  # Display the first 5 solutions\n"
   ]
  },
  {
   "cell_type": "markdown",
   "id": "093199f5-22a7-42f7-b6a4-0202e2158f05",
   "metadata": {},
   "source": []
  }
 ],
 "metadata": {
  "kernelspec": {
   "display_name": "Python 3 (ipykernel)",
   "language": "python",
   "name": "python3"
  },
  "language_info": {
   "codemirror_mode": {
    "name": "ipython",
    "version": 3
   },
   "file_extension": ".py",
   "mimetype": "text/x-python",
   "name": "python",
   "nbconvert_exporter": "python",
   "pygments_lexer": "ipython3",
   "version": "3.8.18"
  }
 },
 "nbformat": 4,
 "nbformat_minor": 5
}
