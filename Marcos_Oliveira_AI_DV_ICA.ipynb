{
 "cells": [
  {
   "cell_type": "markdown",
   "id": "f790fc68-0b4f-4509-88b6-037b2ab9dfaa",
   "metadata": {},
   "source": [
    "# Final Integrated CA\n",
    "\n",
    "College: `CCT College Dublin`\n",
    "\n",
    "Programme Title: `BSc (Hons) in Computing and IT Y4`\n",
    "\n",
    "Module Title: `Artificial Intelligence` / `Data Visualisation & Comms`\n",
    "\n",
    "Lecturer Name: `David McQuaid` / `Sam Weiss`\n",
    "\n",
    "Student Name: `Marcos Vinicius de Oliveira`\n",
    "\n",
    "Student Number: `2023323`"
   ]
  },
  {
   "cell_type": "markdown",
   "id": "a5f877a0-cc0c-4f5e-ae75-62416d1426d7",
   "metadata": {},
   "source": [
    "## Scenario 1"
   ]
  },
  {
   "cell_type": "code",
   "execution_count": 8,
   "id": "efddbefe-1239-4df5-a688-af7ced970063",
   "metadata": {},
   "outputs": [
    {
     "data": {
      "text/plain": [
       "[]"
      ]
     },
     "execution_count": 8,
     "metadata": {},
     "output_type": "execute_result"
    }
   ],
   "source": [
    "import pandas as pd\n",
    "\n",
    "# Define the abilities of each candidate\n",
    "candidates = {\n",
    "    \"Peter\": [\"Python\", \"AI\"],\n",
    "    \"Juan\": [\"Web\", \"AI\"],\n",
    "    \"Jim\": [\"AI\", \"Systems\"],\n",
    "    \"Jane\": [\"Python\", \"Database\"],\n",
    "    \"Mary\": [\"Web\", \"Systems\"],\n",
    "    \"Bruce\": [\"Systems\", \"Python\"],\n",
    "    \"Anita\": [\"Web\", \"AI\"],\n",
    "    \"Ciara\": [\"Python\"]  # Including Ciara as she knows Python\n",
    "}\n",
    "\n",
    "# Create a DataFrame for better visualization and processing\n",
    "df = pd.DataFrame.from_dict(candidates, orient='index', columns=['Skill1', 'Skill2'])\n",
    "df['Skill2'].fillna('', inplace=True)  # Fill NaNs for those with only one skill\n",
    "\n",
    "# Roles needed\n",
    "roles_needed = {\n",
    "    \"Python\": 2,\n",
    "    \"AI\": 2,\n",
    "    \"Web\": 1,\n",
    "    \"Database\": 1,\n",
    "    \"Systems\": 1\n",
    "}\n",
    "\n",
    "# Function to check if a set of hires can fill all roles\n",
    "def can_fill_roles(hires):\n",
    "    roles_filled = {role: 0 for role in roles_needed}\n",
    "\n",
    "    for hire in hires:\n",
    "        skills = df.loc[hire]\n",
    "        for skill in skills:\n",
    "            if skill and roles_filled.get(skill) is not None:\n",
    "                roles_filled[skill] += 1\n",
    "\n",
    "    return all(roles_filled[role] >= needed for role, needed in roles_needed.items())\n",
    "\n",
    "# Iterate over combinations of three hires to find valid solutions\n",
    "from itertools import combinations\n",
    "\n",
    "valid_solutions = []\n",
    "for hires in combinations(df.index, 3):\n",
    "    if can_fill_roles(hires):\n",
    "        valid_solutions.append(hires)\n",
    "\n",
    "# Display the first few valid solutions\n",
    "valid_solutions[:5]  # Display the first 5 solutions for brevity\n"
   ]
  },
  {
   "cell_type": "code",
   "execution_count": null,
   "id": "e554510c-42bc-465f-88af-021ec383be08",
   "metadata": {},
   "outputs": [],
   "source": []
  }
 ],
 "metadata": {
  "kernelspec": {
   "display_name": "Python 3 (ipykernel)",
   "language": "python",
   "name": "python3"
  },
  "language_info": {
   "codemirror_mode": {
    "name": "ipython",
    "version": 3
   },
   "file_extension": ".py",
   "mimetype": "text/x-python",
   "name": "python",
   "nbconvert_exporter": "python",
   "pygments_lexer": "ipython3",
   "version": "3.8.18"
  }
 },
 "nbformat": 4,
 "nbformat_minor": 5
}
