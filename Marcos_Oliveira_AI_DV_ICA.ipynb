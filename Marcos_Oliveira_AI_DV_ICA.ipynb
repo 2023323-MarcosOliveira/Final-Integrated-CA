{
 "cells": [
  {
   "cell_type": "markdown",
   "id": "f790fc68-0b4f-4509-88b6-037b2ab9dfaa",
   "metadata": {},
   "source": [
    "# Final Integrated CA\n",
    "\n",
    "College: `CCT College Dublin`\n",
    "\n",
    "Programme Title: `BSc (Hons) in Computing and IT Y4`\n",
    "\n",
    "Module Title: `Artificial Intelligence` / `Data Visualisation & Comms`\n",
    "\n",
    "Lecturer Name: `David McQuaid` / `Sam Weiss`\n",
    "\n",
    "Student Name: `Marcos Vinicius de Oliveira`\n",
    "\n",
    "Student Number: `2023323`"
   ]
  },
  {
   "cell_type": "markdown",
   "id": "a5f877a0-cc0c-4f5e-ae75-62416d1426d7",
   "metadata": {},
   "source": [
    "# Artificial Intelligence Tasks\n",
    "## Constraint Satisfaction Problem\n",
    "\n",
    "### Scenario 1:"
   ]
  },
  {
   "cell_type": "code",
   "execution_count": 10,
   "id": "efddbefe-1239-4df5-a688-af7ced970063",
   "metadata": {},
   "outputs": [
    {
     "data": {
      "text/plain": [
       "[('Jim', 'Anita', 'Jane', 'Ciara'), ('Jim', 'Juan', 'Jane', 'Ciara')]"
      ]
     },
     "execution_count": 10,
     "metadata": {},
     "output_type": "execute_result"
    }
   ],
   "source": [
    "from itertools import combinations\n",
    "\n",
    "# Candidates and their abilities\n",
    "candidates = {\n",
    "    \"Peter\": [\"Python\", \"AI\"],\n",
    "    \"Juan\": [\"Web\", \"AI\"],\n",
    "    \"Jim\": [\"AI\", \"Systems\"],\n",
    "    \"Jane\": [\"Python\", \"Database\"],\n",
    "    \"Mary\": [\"Web\", \"Systems\"],\n",
    "    \"Bruce\": [\"Systems\", \"Python\"],\n",
    "    \"Anita\": [\"Web\", \"AI\"],\n",
    "    \"Ciara\": [\"Python\"]  # Ciara knows Python\n",
    "}\n",
    "\n",
    "# Required roles\n",
    "required_roles = {\n",
    "    \"Python\": 2,\n",
    "    \"AI\": 2,\n",
    "    \"Web\": 1,\n",
    "    \"Database\": 1,\n",
    "    \"Systems\": 1\n",
    "}\n",
    "\n",
    "# Function to check if the combination of hires covers all roles\n",
    "def covers_all_roles(hires):\n",
    "    covered_roles = {role: 0 for role in required_roles.keys()}\n",
    "\n",
    "    for hire in hires:\n",
    "        for skill in candidates[hire]:\n",
    "            if skill in covered_roles:\n",
    "                covered_roles[skill] += 1\n",
    "\n",
    "    # Check if all roles are adequately covered\n",
    "    return all(covered_roles[role] >= required_roles[role] for role in covered_roles)\n",
    "\n",
    "# Generate combinations of three hires (excluding Ciara who is a given hire)\n",
    "possible_hires = set(candidates.keys()) - {\"Ciara\"}\n",
    "combinations_of_hires = combinations(possible_hires, 3)\n",
    "\n",
    "# Find valid combinations\n",
    "valid_combinations = []\n",
    "for hires in combinations_of_hires:\n",
    "    hires_with_ciara = hires + (\"Ciara\",)  # Adding Ciara to the combination\n",
    "    if covers_all_roles(hires_with_ciara):\n",
    "        valid_combinations.append(hires_with_ciara)\n",
    "\n",
    "# Display the first few valid combinations\n",
    "valid_combinations[:5]  # Display the first 5 solutions for brevity"
   ]
  },
  {
   "cell_type": "markdown",
   "id": "d0931c21-66ad-4f39-994c-96bafa87f11e",
   "metadata": {},
   "source": [
    "### Scenario 2"
   ]
  },
  {
   "cell_type": "code",
   "execution_count": 11,
   "id": "9ed9d136-1129-409f-8ea9-50bd89ec61f8",
   "metadata": {},
   "outputs": [
    {
     "data": {
      "text/plain": [
       "[('Peter', 'Jim', 'Jane', 'Anita', 'Ciara', 'Juan')]"
      ]
     },
     "execution_count": 11,
     "metadata": {},
     "output_type": "execute_result"
    }
   ],
   "source": [
    "from itertools import combinations\n",
    "\n",
    "# Roles for Scenario 2\n",
    "required_roles_scenario_2 = {\n",
    "    \"Python\": 2,\n",
    "    \"AI\": 3,  # Increased to 3 AI Engineers\n",
    "    \"Web\": 1,\n",
    "    \"Database\": 1,\n",
    "    \"Systems\": 1\n",
    "}\n",
    "\n",
    "# Excluding Ciara and Juan\n",
    "candidates_scenario_2 = {\n",
    "    \"Peter\": [\"Python\", \"AI\"],\n",
    "    \"Jim\": [\"AI\", \"Systems\"],\n",
    "    \"Jane\": [\"Python\", \"Database\"],\n",
    "    \"Mary\": [\"Web\", \"Systems\"],\n",
    "    \"Bruce\": [\"Systems\", \"Python\"],\n",
    "    \"Anita\": [\"Web\", \"AI\"]\n",
    "}\n",
    "\n",
    "# Function to check if the combination of hires covers all roles for Scenario 2\n",
    "def covers_all_roles_scenario_2(hires):\n",
    "    covered_roles = {role: 0 for role in required_roles_scenario_2.keys()}\n",
    "\n",
    "    for hire in hires:\n",
    "        for skill in candidates_scenario_2.get(hire, []):\n",
    "            if skill in covered_roles:\n",
    "                covered_roles[skill] += 1\n",
    "\n",
    "    # Check if all roles are adequately covered\n",
    "    return all(covered_roles[role] >= required_roles_scenario_2[role] for role in covered_roles)\n",
    "\n",
    "# Generate combinations of four hires for Scenario 2\n",
    "combinations_of_hires_scenario_2 = combinations(candidates_scenario_2.keys(), 4)\n",
    "\n",
    "# Find valid combinations for Scenario 2\n",
    "valid_combinations_scenario_2 = []\n",
    "for hires in combinations_of_hires_scenario_2:\n",
    "    hires_with_partners = hires + (\"Ciara\", \"Juan\")  # Adding Ciara and Juan to the combination\n",
    "    if covers_all_roles_scenario_2(hires_with_partners):\n",
    "        valid_combinations_scenario_2.append(hires_with_partners)\n",
    "\n",
    "# Display the first few valid combinations\n",
    "valid_combinations_scenario_2[:5]  # Display the first 5 solutions\n"
   ]
  },
  {
   "cell_type": "markdown",
   "id": "093199f5-22a7-42f7-b6a4-0202e2158f05",
   "metadata": {},
   "source": [
    "## Depth First Search (DFS)\n",
    "\n",
    "### Scenario 1"
   ]
  },
  {
   "cell_type": "code",
   "execution_count": 12,
   "id": "d8205fe4-267f-4db8-bdfe-745600ab8d07",
   "metadata": {},
   "outputs": [
    {
     "data": {
      "text/plain": [
       "[['Juan', 'Jim', 'Jane'],\n",
       " ['Juan', 'Jane', 'Jim'],\n",
       " ['Jim', 'Juan', 'Jane'],\n",
       " ['Jim', 'Jane', 'Juan'],\n",
       " ['Jim', 'Jane', 'Anita']]"
      ]
     },
     "execution_count": 12,
     "metadata": {},
     "output_type": "execute_result"
    }
   ],
   "source": [
    "def dfs_roles_assignment(candidates, required_roles, current_assignment=[], current_depth=0, max_depth=3):\n",
    "    # If maximum depth is reached, check if the current assignment satisfies all roles\n",
    "    if current_depth == max_depth:\n",
    "        if all(required_roles[role] == 0 for role in required_roles):\n",
    "            return [current_assignment]\n",
    "        else:\n",
    "            return []\n",
    "\n",
    "    # If any role requirement becomes negative, the path is invalid\n",
    "    if any(required_roles[role] < 0 for role in required_roles):\n",
    "        return []\n",
    "\n",
    "    valid_assignments = []\n",
    "    for candidate in candidates:\n",
    "        # Skip if candidate is already in the current assignment\n",
    "        if candidate in current_assignment:\n",
    "            continue\n",
    "\n",
    "        # Update the roles requirements based on the candidate's skills\n",
    "        updated_roles = required_roles.copy()\n",
    "        for skill in candidates[candidate]:\n",
    "            if skill in updated_roles:\n",
    "                updated_roles[skill] -= 1\n",
    "\n",
    "        # Recurse with the updated assignment and roles\n",
    "        new_assignment = current_assignment + [candidate]\n",
    "        assignments = dfs_roles_assignment(\n",
    "            candidates, updated_roles, new_assignment, current_depth + 1, max_depth\n",
    "        )\n",
    "\n",
    "        valid_assignments.extend(assignments)\n",
    "\n",
    "    return valid_assignments\n",
    "\n",
    "# Scenario 1 requirements\n",
    "candidates_scenario_1 = {\n",
    "    \"Peter\": [\"Python\", \"AI\"],\n",
    "    \"Juan\": [\"Web\", \"AI\"],\n",
    "    \"Jim\": [\"AI\", \"Systems\"],\n",
    "    \"Jane\": [\"Python\", \"Database\"],\n",
    "    \"Mary\": [\"Web\", \"Systems\"],\n",
    "    \"Bruce\": [\"Systems\", \"Python\"],\n",
    "    \"Anita\": [\"Web\", \"AI\"]\n",
    "    # Note: Ciara is not included as she is already assigned to a Python role\n",
    "}\n",
    "\n",
    "required_roles_scenario_1 = {\n",
    "    \"Python\": 1,  # One Python role is already filled by Ciara\n",
    "    \"AI\": 2,\n",
    "    \"Web\": 1,\n",
    "    \"Database\": 1,\n",
    "    \"Systems\": 1\n",
    "}\n",
    "\n",
    "# Find valid assignments using DFS\n",
    "dfs_valid_assignments = dfs_roles_assignment(candidates_scenario_1, required_roles_scenario_1)\n",
    "dfs_valid_assignments[:5]  # Display the first 5 solutions for brevity"
   ]
  },
  {
   "cell_type": "markdown",
   "id": "91ab3e0c-b4c6-43fb-b458-6508676b1d48",
   "metadata": {},
   "source": [
    "### Scenario 2"
   ]
  },
  {
   "cell_type": "code",
   "execution_count": 13,
   "id": "9e2044d3-e705-4275-99ca-5d95162d678c",
   "metadata": {},
   "outputs": [
    {
     "data": {
      "text/plain": [
       "[['Peter', 'Jim', 'Jane', 'Anita'],\n",
       " ['Peter', 'Jim', 'Anita', 'Jane'],\n",
       " ['Peter', 'Jane', 'Jim', 'Anita'],\n",
       " ['Peter', 'Jane', 'Anita', 'Jim'],\n",
       " ['Peter', 'Anita', 'Jim', 'Jane']]"
      ]
     },
     "execution_count": 13,
     "metadata": {},
     "output_type": "execute_result"
    }
   ],
   "source": [
    "def dfs_roles_assignment_scenario_2(candidates, required_roles, current_assignment=[], current_depth=0, max_depth=4):\n",
    "    # If maximum depth is reached, check if the current assignment satisfies all roles\n",
    "    if current_depth == max_depth:\n",
    "        if all(required_roles[role] == 0 for role in required_roles):\n",
    "            return [current_assignment]\n",
    "        else:\n",
    "            return []\n",
    "\n",
    "    # If any role requirement becomes negative, the path is invalid\n",
    "    if any(required_roles[role] < 0 for role in required_roles):\n",
    "        return []\n",
    "\n",
    "    valid_assignments = []\n",
    "    for candidate in candidates:\n",
    "        # Skip if candidate is already in the current assignment or is a partner (Ciara or Juan)\n",
    "        if candidate in current_assignment or candidate in [\"Ciara\", \"Juan\"]:\n",
    "            continue\n",
    "\n",
    "        # Update the roles requirements based on the candidate's skills\n",
    "        updated_roles = required_roles.copy()\n",
    "        for skill in candidates[candidate]:\n",
    "            if skill in updated_roles:\n",
    "                updated_roles[skill] -= 1\n",
    "\n",
    "        # Recurse with the updated assignment and roles\n",
    "        new_assignment = current_assignment + [candidate]\n",
    "        assignments = dfs_roles_assignment_scenario_2(\n",
    "            candidates, updated_roles, new_assignment, current_depth + 1, max_depth\n",
    "        )\n",
    "\n",
    "        valid_assignments.extend(assignments)\n",
    "\n",
    "    return valid_assignments\n",
    "\n",
    "# Scenario 2 requirements\n",
    "candidates_scenario_2 = candidates  # Including all candidates\n",
    "\n",
    "required_roles_scenario_2 = {\n",
    "    \"Python\": 2,  # Two Python roles\n",
    "    \"AI\": 3,      # Three AI Engineers\n",
    "    \"Web\": 1,\n",
    "    \"Database\": 1,\n",
    "    \"Systems\": 1\n",
    "}\n",
    "\n",
    "# Find valid assignments using DFS for Scenario 2\n",
    "dfs_valid_assignments_scenario_2 = dfs_roles_assignment_scenario_2(candidates_scenario_2, required_roles_scenario_2)\n",
    "dfs_valid_assignments_scenario_2[:5]  # Display the first 5 solutions for brevity"
   ]
  },
  {
   "cell_type": "markdown",
   "id": "83f2e6a3-1cad-4e63-bb11-300753d46063",
   "metadata": {},
   "source": [
    "# Data Visualisation Tasks\n",
    "## CSP Visualisations\n",
    "\n",
    "### Scenario 1"
   ]
  },
  {
   "cell_type": "code",
   "execution_count": 18,
   "id": "881c921a-e394-4d2a-82d3-7866c7747c1f",
   "metadata": {},
   "outputs": [],
   "source": [
    "# Please install these packages if you dont have it yet\n",
    "\n",
    "# !pip install networkx\n",
    "# !pip install matplotlib"
   ]
  },
  {
   "cell_type": "code",
   "execution_count": 19,
   "id": "4c632c9f-c6ef-4ef0-90b2-c54dd1572cba",
   "metadata": {},
   "outputs": [
    {
     "data": {
      "image/png": "[encoded data removed]",
      "text/plain": [
       "<Figure size 640x480 with 1 Axes>"
      ]
     },
     "metadata": {},
     "output_type": "display_data"
    }
   ],
   "source": [
    "import matplotlib.pyplot as plt\n",
    "import networkx as nx\n",
    "\n",
    "def visualize_csp(candidates, roles):\n",
    "    G = nx.Graph()\n",
    "\n",
    "    # Add nodes for each candidate and role\n",
    "    for candidate in candidates:\n",
    "        G.add_node(candidate, type='candidate', bipartite=0)\n",
    "    for role in roles:\n",
    "        G.add_node(role, type='role', bipartite=1)\n",
    "\n",
    "    # Add edges between candidates and roles they can fill\n",
    "    for candidate, skills in candidates.items():\n",
    "        for skill in skills:\n",
    "            if skill in roles:\n",
    "                G.add_edge(candidate, skill)\n",
    "\n",
    "    # Separate positions for candidates and roles\n",
    "    pos = {}\n",
    "    pos.update((node, (1, index)) for index, node in enumerate(candidates))\n",
    "    pos.update((node, (2, index)) for index, node in enumerate(roles))\n",
    "\n",
    "    # Draw the graph\n",
    "    nx.draw(G, pos, with_labels=True, node_color=['skyblue' if G.nodes[node]['type'] == 'candidate' else 'lightgreen' for node in G])\n",
    "    plt.show()\n",
    "\n",
    "# Candidates and roles for Scenario 1\n",
    "candidates_scenario_1 = {\n",
    "    \"Peter\": [\"Python\", \"AI\"],\n",
    "    \"Juan\": [\"Web\", \"AI\"],\n",
    "    \"Jim\": [\"AI\", \"Systems\"],\n",
    "    \"Jane\": [\"Python\", \"Database\"],\n",
    "    \"Mary\": [\"Web\", \"Systems\"],\n",
    "    \"Bruce\": [\"Systems\", \"Python\"],\n",
    "    \"Anita\": [\"Web\", \"AI\"],\n",
    "    \"Ciara\": [\"Python\"]  # Assuming Ciara knows Python\n",
    "}\n",
    "\n",
    "roles_scenario_1 = [\"Python\", \"AI\", \"Web\", \"Database\", \"Systems\"]\n",
    "\n",
    "visualize_csp(candidates_scenario_1, roles_scenario_1)"
   ]
  },
  {
   "cell_type": "markdown",
   "id": "5d18069f-81ac-4400-b16f-8874025bfbbb",
   "metadata": {},
   "source": [
    "### Scenario 2"
   ]
  },
  {
   "cell_type": "code",
   "execution_count": null,
   "id": "0f677657-40c5-4ca9-8058-bb63c7a21404",
   "metadata": {},
   "outputs": [],
   "source": []
  }
 ],
 "metadata": {
  "kernelspec": {
   "display_name": "Python 3 (ipykernel)",
   "language": "python",
   "name": "python3"
  },
  "language_info": {
   "codemirror_mode": {
    "name": "ipython",
    "version": 3
   },
   "file_extension": ".py",
   "mimetype": "text/x-python",
   "name": "python",
   "nbconvert_exporter": "python",
   "pygments_lexer": "ipython3",
   "version": "3.8.18"
  }
 },
 "nbformat": 4,
 "nbformat_minor": 5
}
